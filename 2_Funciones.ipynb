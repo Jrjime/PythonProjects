{
  "nbformat": 4,
  "nbformat_minor": 0,
  "metadata": {
    "colab": {
      "provenance": []
    },
    "kernelspec": {
      "name": "python3",
      "display_name": "Python 3"
    },
    "language_info": {
      "name": "python"
    }
  },
  "cells": [
    {
      "cell_type": "code",
      "source": [
        "#Ejercicio de las figuras geométricas en funciones como trabajo en equipo\n",
        "#Estudiantes:\n",
        "#Luis Antonio Montes de Oca\n",
        "#Alexis Solis\n",
        "#Aslie Cárdenas\n",
        "#Jose Jimenez"
      ],
      "metadata": {
        "id": "rSo9l2E9F7TY"
      },
      "execution_count": null,
      "outputs": []
    },
    {
      "cell_type": "code",
      "execution_count": null,
      "metadata": {
        "id": "O0ZuqINVU_3C",
        "colab": {
          "base_uri": "https://localhost:8080/"
        },
        "outputId": "d9bae171-a229-4c1f-eae4-5fb0be93cb2e"
      },
      "outputs": [
        {
          "output_type": "stream",
          "name": "stdout",
          "text": [
            "Digite el valor del radio: 30\n",
            "El area es:  2827.4333882308138\n",
            "El perimetro:  188.49555921538757\n"
          ]
        }
      ],
      "source": [
        "import math\n",
        "\n",
        "def calcular_area_circulo(radio):\n",
        "  return math.pi * radio**2\n",
        "\n",
        "def calcular_perimetro_circulo(radio):\n",
        "  return 2*math.pi * radio\n",
        "\n",
        "radio=float(input(\"Digite el valor del radio: \"))\n",
        "area=calcular_area_circulo(radio)\n",
        "perimetro=calcular_perimetro_circulo(radio)\n",
        "print(\"El area es: \",area)\n",
        "print(\"El perimetro: \", perimetro)"
      ]
    },
    {
      "cell_type": "code",
      "source": [
        "import math\n",
        "\n",
        "def calcular_area_cuadrado(lado):\n",
        "  return lado * lado\n",
        "\n",
        "def calcular_perimetro_cuadrado(lado):\n",
        "  return 4 * lado\n",
        "\n",
        "lado= int(input(\"Digite un valor:\"))\n",
        "area=calcular_area_cuadrado(lado)\n",
        "perimetro=calcular_perimetro_cuadrado(lado)\n",
        "print(\"El area es: \",area)\n",
        "print(\"El perimetro: \", perimetro)"
      ],
      "metadata": {
        "colab": {
          "base_uri": "https://localhost:8080/"
        },
        "id": "coWLdz7jirJG",
        "outputId": "66a16c66-aa62-4aac-91af-bbd8c18314e1"
      },
      "execution_count": null,
      "outputs": [
        {
          "output_type": "stream",
          "name": "stdout",
          "text": [
            "Digite un valor:6\n",
            "El area es:  36\n",
            "El perimetro:  24\n"
          ]
        }
      ]
    },
    {
      "cell_type": "code",
      "source": [
        "import math\n",
        "print(\"Calcular area rectangulo\")\n",
        "def calcular_area_rectangulo(base, altura):\n",
        "  return base * altura\n",
        "\n",
        "def calcular_perimetro_rectangulo(base, altura):\n",
        "  return (2 * base) + (2 * altura)\n",
        "\n",
        "\n",
        "base= int(input(\"Digite el valor de base: \"))\n",
        "altura= int(input(\"Digite el valor de la altura: \"))\n",
        "area= calcular_area_rectangulo(base, altura)\n",
        "perimetro=calcular_perimetro_rectangulo(base, altura)\n",
        "print(\"El area es: \",area)\n",
        "print(\"El perimetro: \", perimetro)"
      ],
      "metadata": {
        "id": "33ddL5LzQsQM",
        "colab": {
          "base_uri": "https://localhost:8080/"
        },
        "outputId": "32e56324-3b86-4993-94be-356087ff9b9f"
      },
      "execution_count": null,
      "outputs": [
        {
          "output_type": "stream",
          "name": "stdout",
          "text": [
            "Calcular area rectangulo\n",
            "Digite el valor de base: 3\n",
            "Digite el valor de la altura: 3\n",
            "El area es:  9\n",
            "El perimetro:  12\n"
          ]
        }
      ]
    },
    {
      "cell_type": "code",
      "source": [
        "def area_paralelo(base, altura):\n",
        "  return base*altura\n",
        "\n",
        "def perimetro_paralelo(l1, l2):\n",
        "  return (l1*2)+(l2*2)\n",
        "\n",
        "base=int(input(\"Digite la medida de la base: \"))\n",
        "altura=int(input(\"Digite la medida de la altura: \"))\n",
        "lado=int(input(\"Digite la medida del lado: \"))\n",
        "\n",
        "area=area_paralelo(base, altura)\n",
        "perimetro=perimetro_paralelo(base, lado)\n",
        "\n",
        "print(\"El area es de: \", area)\n",
        "print(\"El perimetro es de: \", perimetro)"
      ],
      "metadata": {
        "id": "pZwPHOFLSfWt"
      },
      "execution_count": null,
      "outputs": []
    },
    {
      "cell_type": "code",
      "source": [
        "import math\n",
        "\n",
        "lado = float(input(\"Digite el tamano del lado: \"))\n",
        "\n",
        "def triangulo_equilatero_area (lado ):\n",
        "    return lado**2*math.sqrt(3)/4\n",
        "\n",
        "def triangulo_equilatero_perimetro(lado ):\n",
        "    return 3*lado\n",
        "\n",
        "area = triangulo_equilatero_area(lado)\n",
        "perimetro = triangulo_equilatero_perimetro(lado)\n",
        "print(\"El area es: \" +str(area))\n",
        "print(\"El area es: \" +str(perimetro))\n"
      ],
      "metadata": {
        "id": "NA8YgD8NuLC3"
      },
      "execution_count": null,
      "outputs": []
    },
    {
      "cell_type": "code",
      "source": [
        "import math\n",
        "print(\"Triangulo\")\n",
        "def calcular_area_triangulo(base, altura):\n",
        "  return (base * altura)/2\n",
        "\n",
        "def calcular_perimetro_triangulo(lado1, lado2, lado3):\n",
        "  return lado1 + lado2 + lado3\n",
        "\n",
        "\n",
        "base= int(input(\"Digite el valor de la base: \"))\n",
        "altura= int(input(\"Digite el valor de la altura: \"))\n",
        "area=calcular_area_triangulo(base, altura)\n",
        "lado1= int(input(\"Digite el valor del lado 1: \"))\n",
        "lado2= int(input(\"Digite el valor del lado 2: \"))\n",
        "lado3= int(input(\"Digite el valor del lado 3: \"))\n",
        "perimetro=calcular_perimetro_triangulo(lado1, lado2, lado3)\n",
        "print(\"El area es: \",area)\n",
        "print(\"El perimetro: \", perimetro)"
      ],
      "metadata": {
        "colab": {
          "base_uri": "https://localhost:8080/"
        },
        "id": "pneYMCPL9aZ5",
        "outputId": "337ef204-17e6-4b5e-ceda-4812b882c405"
      },
      "execution_count": null,
      "outputs": [
        {
          "name": "stdout",
          "output_type": "stream",
          "text": [
            "Triangulo\n",
            "Digite el valor de la base: 3\n"
          ]
        }
      ]
    },
    {
      "cell_type": "code",
      "source": [
        "import math\n",
        "print(\"Rombo\")\n",
        "def calcular_area_rombo(dMayor, dMenor):\n",
        "  return (dMayor * dMenor)/2\n",
        "\n",
        "def calcular_perimetro_rombo(lado):\n",
        "  return lado * 4\n",
        "\n",
        "\n",
        "dMayor= int(input(\"Digite el valor de la diagonal mayor: \"))\n",
        "dMenor= int(input(\"Digite el valor de la diagonal menor: \"))\n",
        "area=calcular_area_rombo(dMayor, dMenor)\n",
        "lado= int(input(\"Digite el valor de un lado : \"))\n",
        "perimetro=calcular_perimetro_rombo(lado)\n",
        "print(\"El area es: \",area)\n",
        "print(\"El perimetro: \", perimetro)"
      ],
      "metadata": {
        "id": "uU7fZfJrFxJL"
      },
      "execution_count": null,
      "outputs": []
    },
    {
      "cell_type": "code",
      "source": [],
      "metadata": {
        "id": "b1NbU8RrGX84"
      },
      "execution_count": null,
      "outputs": []
    },
    {
      "cell_type": "code",
      "source": [
        "\n",
        "#Trapecio\n",
        "print(\"Trapecio\")\n",
        "def calcular_area_trapecio(baseMenor, baseMayor, altura):\n",
        "  return ((baseMenor + baseMayor)/2)*altura\n",
        "\n",
        "def calcular_perimetro_trapecio(baseMenor, baseMayor, altura):\n",
        "  return (2*(baseMayor-baseMenor))+baseMayor+baseMenor\n",
        "\n",
        "baseMenor=float(input(\"Digite el valor de la base menor: \"))\n",
        "baseMayor=float(input(\"Digite el valor de la base mayor: \"))\n",
        "\n",
        "altura=float(input(\"Digite el valor de la altura: \"))\n",
        "area=calcular_area_trapecio(baseMenor, baseMayor, altura)\n",
        "perimetro=calcular_perimetro_trapecio(baseMenor, baseMayor, altura)\n",
        "print(\"El area es: \",area)\n",
        "print(\"El perimetro: \", perimetro)"
      ],
      "metadata": {
        "colab": {
          "base_uri": "https://localhost:8080/"
        },
        "outputId": "f91d6e2a-18d4-4723-d8ba-4fc9aab2311f",
        "id": "uOFVOrwWGcMR"
      },
      "execution_count": null,
      "outputs": [
        {
          "output_type": "stream",
          "name": "stdout",
          "text": [
            "Digite el valor de la base menor: 2\n",
            "Digite el valor de la base mayor: 4\n",
            "Digite el valor de la altura: 6\n",
            "El area es:  18.0\n",
            "El perimetro:  10.0\n"
          ]
        }
      ]
    },
    {
      "cell_type": "code",
      "source": [
        "#Poligono regular\n",
        "print(\"Poligono regular\")\n",
        "def calcular_area_poligono_regular(apotema, perimetro):\n",
        "  return (apotema*perimetro)/2\n",
        "\n",
        "def calcular_perimetro_poligono_regular(numeroLado, lado):\n",
        "  return numeroLado*lado\n",
        "\n",
        "apotema=float(input(\"Digite el valor de la apotema : \"))\n",
        "numeroLados=float(input(\"Digite la cantidad de lados: \"))\n",
        "lado = float(input(\"Digite el valor del lado: \"))\n",
        "perimetro=calcular_perimetro_poligono_regular(numeroLados, lado)\n",
        "area=calcular_area_poligono_regular(apotema, perimetro)\n",
        "\n",
        "print(\"El area es: \",area)\n",
        "print(\"El perimetro: \", perimetro)\n",
        "\n"
      ],
      "metadata": {
        "colab": {
          "base_uri": "https://localhost:8080/"
        },
        "id": "bMi6r2EqGfp4",
        "outputId": "d3628227-7721-43e7-d785-d043da65f34b"
      },
      "execution_count": null,
      "outputs": [
        {
          "output_type": "stream",
          "name": "stdout",
          "text": [
            "Digite el valor de la apotema : 5\n",
            "Digite la cantidad de lados: 6\n",
            "Digite el valor del lado: 2\n",
            "El area es:  30.0\n",
            "El perimetro:  12.0\n"
          ]
        }
      ]
    }
  ]
}